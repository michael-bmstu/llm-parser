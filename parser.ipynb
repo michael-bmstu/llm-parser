{
 "cells": [
  {
   "cell_type": "code",
   "execution_count": 1,
   "id": "43088def",
   "metadata": {},
   "outputs": [],
   "source": [
    "import pandas as pd\n",
    "import fitz\n",
    "from pathlib import Path"
   ]
  },
  {
   "cell_type": "code",
   "execution_count": 2,
   "id": "1c8ee28b",
   "metadata": {},
   "outputs": [],
   "source": [
    "DATA = Path(\"./examples\")"
   ]
  },
  {
   "cell_type": "code",
   "execution_count": 6,
   "id": "858d10ae",
   "metadata": {},
   "outputs": [
    {
     "name": "stdout",
     "output_type": "stream",
     "text": [
      "254366 31346\n"
     ]
    }
   ],
   "source": [
    "doc = fitz.open(DATA / \"mts_2024.pdf\")\n",
    "doc_txt = \"\"\n",
    "for page in doc:\n",
    "    doc_txt += page.get_text().strip() + \"\\n\"\n",
    "\n",
    "doc_txt = doc_txt.strip()\n",
    "print(len(doc_txt), len(doc_txt.split()))"
   ]
  },
  {
   "cell_type": "code",
   "execution_count": 4,
   "id": "c3603170",
   "metadata": {},
   "outputs": [],
   "source": [
    "with open(DATA / \"mts_2024.txt\", \"w\", encoding=\"utf-8\") as f:\n",
    "    f.write(doc_txt)"
   ]
  }
 ],
 "metadata": {
  "kernelspec": {
   "display_name": "nb_venv",
   "language": "python",
   "name": "python3"
  },
  "language_info": {
   "codemirror_mode": {
    "name": "ipython",
    "version": 3
   },
   "file_extension": ".py",
   "mimetype": "text/x-python",
   "name": "python",
   "nbconvert_exporter": "python",
   "pygments_lexer": "ipython3",
   "version": "3.12.3"
  }
 },
 "nbformat": 4,
 "nbformat_minor": 5
}
